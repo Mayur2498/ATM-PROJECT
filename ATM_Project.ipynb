{
  "nbformat": 4,
  "nbformat_minor": 0,
  "metadata": {
    "colab": {
      "provenance": [],
      "authorship_tag": "ABX9TyMlgjDuv3oZj8vpUJgBRrJP",
      "include_colab_link": true
    },
    "kernelspec": {
      "name": "python3",
      "display_name": "Python 3"
    },
    "language_info": {
      "name": "python"
    }
  },
  "cells": [
    {
      "cell_type": "markdown",
      "metadata": {
        "id": "view-in-github",
        "colab_type": "text"
      },
      "source": [
        "<a href=\"https://colab.research.google.com/github/Mayur2498/ATM-PROJECT/blob/main/ATM_Project.ipynb\" target=\"_parent\"><img src=\"https://colab.research.google.com/assets/colab-badge.svg\" alt=\"Open In Colab\"/></a>"
      ]
    },
    {
      "cell_type": "code",
      "execution_count": null,
      "metadata": {
        "colab": {
          "base_uri": "https://localhost:8080/"
        },
        "id": "YN4-DW31zfqm",
        "outputId": "1f78c542-c629-401e-d983-bbca39544bd7"
      },
      "outputs": [
        {
          "output_type": "stream",
          "name": "stdout",
          "text": [
            "***** Welcome To ATM Machine Simulator *****\n",
            "Enter Your Pin  65566\n",
            "Options you can Exercise are:\n",
            "\n",
            "1) Balance\n",
            "2) Withdraw\n",
            "3) Deposit\n",
            "4) Exit\n",
            "           Select Your Transaction from the above options: 2\n",
            "Enter Amount  60000\n",
            "Insufficient Balance\n",
            "Your balance is 10000\n"
          ]
        }
      ],
      "source": [
        "print(\"***** Welcome To ATM Machine Simulator *****\")\n",
        "balance=10000\n",
        "\n",
        "# Define the Bank class\n",
        "class Bank:\n",
        "    def __init__(self):\n",
        "        self.balance = 10000  # Initialize balance\n",
        "\n",
        "    def login(self, pin):\n",
        "        if pin==65566:\n",
        "            print(\"Options you can Exercise are:\")\n",
        "            return True\n",
        "\n",
        "    def credit(self, amt):\n",
        "        self.balance += amt\n",
        "\n",
        "    def debit(self, amt):\n",
        "        self.balance -= amt\n",
        "\n",
        "    def display(self):\n",
        "        print(\"Your balance is \" + str(self.balance))\n",
        "\n",
        "# Now you can create an object of the Bank class\n",
        "obj = Bank()\n",
        "\n",
        "flag=False\n",
        "for i in range(1,6):\n",
        "    if obj.login(int(input(\"Enter Your Pin  \"))):\n",
        "        flag=True\n",
        "        break # Exit the loop if login is successful\n",
        "    else: # Use else instead of elif for incorrect pin\n",
        "        print(\"Incorrect Pin. Try again.\")\n",
        "if flag:\n",
        " while True:\n",
        "     o=input(\"\"\"\n",
        "1) Balance\n",
        "2) Withdraw\n",
        "3) Deposit\n",
        "4) Exit\n",
        "           Select Your Transaction from the above options: \"\"\")\n",
        "\n",
        "     if   o=='1': # Input will be a string, so compare with '1'\n",
        "         obj.display() # Indent this line to include it in the if block\n",
        "\n",
        "     elif o=='2': # Input will be a string, so compare with '2'\n",
        "          amt=int(input(\"Enter Amount  \"))\n",
        "          if amt<=obj.balance:\n",
        "              obj.debit(amt)\n",
        "              print(\"Your Amount is Successfully withdraw \")\n",
        "          else:\n",
        "              print(\"Insufficient Balance\")\n",
        "          obj.display()\n",
        "\n",
        "     elif o=='3': # Input will be a string, so compare with '3'\n",
        "         amt=int(input(\"Enter Amount for Deposit  \"))\n",
        "         obj.credit(amt) # Remove the extra if condition and assignment\n",
        "         obj.display()\n",
        "\n",
        "     elif o=='4': # Correct the indentation of this elif block\n",
        "         print(\"Thank You !!!\")\n",
        "         break\n",
        "\n",
        "     else: # This else is aligned with the while True block\n",
        "         print(\"Invalid\")"
      ]
    }
  ]
}